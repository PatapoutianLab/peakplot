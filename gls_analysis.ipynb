{
 "cells": [
  {
   "cell_type": "markdown",
   "metadata": {},
   "source": [
    "# GLS Analysis of PGR Peak Mean Data\n",
    "\n",
    "This notebook performs Generalized Least Squares (GLS) analysis on PGR peak mean data with two factors:\n",
    "- **Uterus-specific**: Presence/absence of uterus-specific effects\n",
    "- **Sensory-specific**: Presence/absence of sensory-specific effects\n",
    "\n",
    "The analysis uses unequal variance modeling to account for heteroscedasticity across groups."
   ]
  },
  {
   "cell_type": "code",
   "execution_count": 1,
   "metadata": {
    "execution": {
     "iopub.execute_input": "2025-07-31T17:08:03.855148Z",
     "iopub.status.busy": "2025-07-31T17:08:03.854663Z",
     "iopub.status.idle": "2025-07-31T17:08:05.621796Z",
     "shell.execute_reply": "2025-07-31T17:08:05.621020Z"
    }
   },
   "outputs": [
    {
     "name": "stdout",
     "output_type": "stream",
     "text": [
      "Libraries loaded successfully\n"
     ]
    }
   ],
   "source": [
    "import pandas as pd\n",
    "import numpy as np\n",
    "import statsmodels.api as sm\n",
    "import statsmodels.formula.api as smf\n",
    "from scipy import stats\n",
    "import warnings\n",
    "warnings.filterwarnings('ignore')\n",
    "\n",
    "print(\"Libraries loaded successfully\")"
   ]
  },
  {
   "cell_type": "markdown",
   "metadata": {},
   "source": [
    "## Data Loading and Preprocessing\n",
    "\n",
    "The data consists of 4 groups based on the combination of two binary factors:\n",
    "- Group 1: Uterus-specific=0, Sensory-specific=0\n",
    "- Group 2: Uterus-specific=1, Sensory-specific=0  \n",
    "- Group 3: Uterus-specific=0, Sensory-specific=1\n",
    "- Group 4: Uterus-specific=1, Sensory-specific=1"
   ]
  },
  {
   "cell_type": "code",
   "execution_count": 2,
   "metadata": {
    "execution": {
     "iopub.execute_input": "2025-07-31T17:08:05.673298Z",
     "iopub.status.busy": "2025-07-31T17:08:05.672825Z",
     "iopub.status.idle": "2025-07-31T17:08:05.688052Z",
     "shell.execute_reply": "2025-07-31T17:08:05.687167Z"
    }
   },
   "outputs": [
    {
     "name": "stdout",
     "output_type": "stream",
     "text": [
      "Loading data from pgr_peak_mean.csv...\n",
      "Data loaded successfully!\n",
      "Total observations: 29\n",
      "Variables: ['uterus_specific', 'sensory_specific', 'peak_mean', 'group']\n"
     ]
    }
   ],
   "source": [
    "def read_input(file_name):\n",
    "    \"\"\"\n",
    "    Read CSV file with 4 rows representing different experimental groups\n",
    "    \"\"\"\n",
    "    with open(file_name, 'r') as f:\n",
    "        lines = f.readlines()\n",
    "    \n",
    "    if len(lines) != 4:\n",
    "        raise ValueError(\"CSV file must contain exactly 4 rows, one for each group.\")\n",
    "    \n",
    "    # Group mapping: (uterus_specific, sensory_specific)\n",
    "    group_info = [(0, 0), (1, 0), (0, 1), (1, 1)]\n",
    "    \n",
    "    data_list = []\n",
    "    for i, line in enumerate(lines):\n",
    "        values = [float(x.strip()) for x in line.strip().split(',')]\n",
    "        uterus_val, sensory_val = group_info[i]\n",
    "        \n",
    "        for value in values:\n",
    "            data_list.append({\n",
    "                'uterus_specific': uterus_val,\n",
    "                'sensory_specific': sensory_val,\n",
    "                'peak_mean': value\n",
    "            })\n",
    "    \n",
    "    df = pd.DataFrame(data_list)\n",
    "    df['uterus_specific'] = df['uterus_specific'].astype('category')\n",
    "    df['sensory_specific'] = df['sensory_specific'].astype('category')\n",
    "    df['group'] = df['uterus_specific'].astype(str) + '_' + df['sensory_specific'].astype(str)\n",
    "    \n",
    "    return df\n",
    "\n",
    "# Load the data\n",
    "print(\"Loading data from pgr_peak_mean.csv...\")\n",
    "df_pressure = read_input('pgr_peak_mean.csv')\n",
    "print(f\"Data loaded successfully!\")\n",
    "print(f\"Total observations: {df_pressure.shape[0]}\")\n",
    "print(f\"Variables: {list(df_pressure.columns)}\")"
   ]
  },
  {
   "cell_type": "code",
   "execution_count": 3,
   "metadata": {
    "execution": {
     "iopub.execute_input": "2025-07-31T17:08:05.692487Z",
     "iopub.status.busy": "2025-07-31T17:08:05.692040Z",
     "iopub.status.idle": "2025-07-31T17:08:05.719363Z",
     "shell.execute_reply": "2025-07-31T17:08:05.718682Z"
    }
   },
   "outputs": [
    {
     "name": "stdout",
     "output_type": "stream",
     "text": [
      "\n",
      "=== DATA SUMMARY ===\n",
      "\n",
      "Group sample sizes:\n",
      "  Uterus-specific=0, Sensory-specific=0: 8 observations\n",
      "  Uterus-specific=0, Sensory-specific=1: 6 observations\n",
      "  Uterus-specific=1, Sensory-specific=0: 7 observations\n",
      "  Uterus-specific=1, Sensory-specific=1: 8 observations\n",
      "\n",
      "Descriptive statistics by group:\n",
      "  Uterus-specific=0, Sensory-specific=0:\n",
      "    Mean: 135.4096, SD: 54.6974, Variance: 2991.8106\n",
      "  Uterus-specific=0, Sensory-specific=1:\n",
      "    Mean: 82.3763, SD: 10.2915, Variance: 105.9148\n",
      "  Uterus-specific=1, Sensory-specific=0:\n",
      "    Mean: 108.3287, SD: 50.1021, Variance: 2510.2186\n",
      "  Uterus-specific=1, Sensory-specific=1:\n",
      "    Mean: 67.8432, SD: 25.2965, Variance: 639.9113\n",
      "\n",
      "First few rows of data:\n"
     ]
    },
    {
     "data": {
      "text/html": [
       "<div>\n",
       "<style scoped>\n",
       "    .dataframe tbody tr th:only-of-type {\n",
       "        vertical-align: middle;\n",
       "    }\n",
       "\n",
       "    .dataframe tbody tr th {\n",
       "        vertical-align: top;\n",
       "    }\n",
       "\n",
       "    .dataframe thead th {\n",
       "        text-align: right;\n",
       "    }\n",
       "</style>\n",
       "<table border=\"1\" class=\"dataframe\">\n",
       "  <thead>\n",
       "    <tr style=\"text-align: right;\">\n",
       "      <th></th>\n",
       "      <th>uterus_specific</th>\n",
       "      <th>sensory_specific</th>\n",
       "      <th>peak_mean</th>\n",
       "      <th>group</th>\n",
       "    </tr>\n",
       "  </thead>\n",
       "  <tbody>\n",
       "    <tr>\n",
       "      <th>0</th>\n",
       "      <td>0</td>\n",
       "      <td>0</td>\n",
       "      <td>76.995995</td>\n",
       "      <td>0_0</td>\n",
       "    </tr>\n",
       "    <tr>\n",
       "      <th>1</th>\n",
       "      <td>0</td>\n",
       "      <td>0</td>\n",
       "      <td>163.805111</td>\n",
       "      <td>0_0</td>\n",
       "    </tr>\n",
       "    <tr>\n",
       "      <th>2</th>\n",
       "      <td>0</td>\n",
       "      <td>0</td>\n",
       "      <td>140.359678</td>\n",
       "      <td>0_0</td>\n",
       "    </tr>\n",
       "    <tr>\n",
       "      <th>3</th>\n",
       "      <td>0</td>\n",
       "      <td>0</td>\n",
       "      <td>63.597187</td>\n",
       "      <td>0_0</td>\n",
       "    </tr>\n",
       "    <tr>\n",
       "      <th>4</th>\n",
       "      <td>0</td>\n",
       "      <td>0</td>\n",
       "      <td>151.416587</td>\n",
       "      <td>0_0</td>\n",
       "    </tr>\n",
       "    <tr>\n",
       "      <th>5</th>\n",
       "      <td>0</td>\n",
       "      <td>0</td>\n",
       "      <td>204.333643</td>\n",
       "      <td>0_0</td>\n",
       "    </tr>\n",
       "    <tr>\n",
       "      <th>6</th>\n",
       "      <td>0</td>\n",
       "      <td>0</td>\n",
       "      <td>84.531180</td>\n",
       "      <td>0_0</td>\n",
       "    </tr>\n",
       "    <tr>\n",
       "      <th>7</th>\n",
       "      <td>0</td>\n",
       "      <td>0</td>\n",
       "      <td>198.237405</td>\n",
       "      <td>0_0</td>\n",
       "    </tr>\n",
       "    <tr>\n",
       "      <th>8</th>\n",
       "      <td>1</td>\n",
       "      <td>0</td>\n",
       "      <td>92.438752</td>\n",
       "      <td>1_0</td>\n",
       "    </tr>\n",
       "    <tr>\n",
       "      <th>9</th>\n",
       "      <td>1</td>\n",
       "      <td>0</td>\n",
       "      <td>65.577130</td>\n",
       "      <td>1_0</td>\n",
       "    </tr>\n",
       "  </tbody>\n",
       "</table>\n",
       "</div>"
      ],
      "text/plain": [
       "  uterus_specific sensory_specific   peak_mean group\n",
       "0               0                0   76.995995   0_0\n",
       "1               0                0  163.805111   0_0\n",
       "2               0                0  140.359678   0_0\n",
       "3               0                0   63.597187   0_0\n",
       "4               0                0  151.416587   0_0\n",
       "5               0                0  204.333643   0_0\n",
       "6               0                0   84.531180   0_0\n",
       "7               0                0  198.237405   0_0\n",
       "8               1                0   92.438752   1_0\n",
       "9               1                0   65.577130   1_0"
      ]
     },
     "metadata": {},
     "output_type": "display_data"
    }
   ],
   "source": [
    "# Display data summary\n",
    "print(\"\\n=== DATA SUMMARY ===\")\n",
    "print(\"\\nGroup sample sizes:\")\n",
    "group_counts = df_pressure.groupby('group').size()\n",
    "for group, count in group_counts.items():\n",
    "    uterus, sensory = group.split('_')\n",
    "    print(f\"  Uterus-specific={uterus}, Sensory-specific={sensory}: {count} observations\")\n",
    "\n",
    "print(\"\\nDescriptive statistics by group:\")\n",
    "group_statistics = df_pressure.groupby('group')['peak_mean'].agg(['count', 'mean', 'std', 'var']).round(4)\n",
    "for group, group_stat in group_statistics.iterrows():\n",
    "    uterus, sensory = group.split('_')\n",
    "    print(f\"  Uterus-specific={uterus}, Sensory-specific={sensory}:\")\n",
    "    print(f\"    Mean: {group_stat['mean']:.4f}, SD: {group_stat['std']:.4f}, Variance: {group_stat['var']:.4f}\")\n",
    "\n",
    "print(\"\\nFirst few rows of data:\")\n",
    "display(df_pressure.head(10))"
   ]
  },
  {
   "cell_type": "markdown",
   "metadata": {},
   "source": [
    "## GLS Analysis with Unequal Variance\n",
    "\n",
    "We perform a GLS analysis that accounts for unequal variances across groups. This approach:\n",
    "1. Calculates group-specific variances\n",
    "2. Uses inverse variance weighting in the GLS model\n",
    "3. Tests for main effects of both factors using one-sided tests"
   ]
  },
  {
   "cell_type": "code",
   "execution_count": 4,
   "metadata": {
    "execution": {
     "iopub.execute_input": "2025-07-31T17:08:05.723963Z",
     "iopub.status.busy": "2025-07-31T17:08:05.723564Z",
     "iopub.status.idle": "2025-07-31T17:08:05.734974Z",
     "shell.execute_reply": "2025-07-31T17:08:05.734094Z"
    }
   },
   "outputs": [
    {
     "name": "stdout",
     "output_type": "stream",
     "text": [
      "\n",
      "=== GLS ANALYSIS WITH UNEQUAL VARIANCE ===\n",
      "\n",
      "Group variances:\n",
      "  Uterus-specific=0, Sensory-specific=0: 2991.8106\n",
      "  Uterus-specific=0, Sensory-specific=1: 105.9148\n",
      "  Uterus-specific=1, Sensory-specific=0: 2510.2186\n",
      "  Uterus-specific=1, Sensory-specific=1: 639.9113\n",
      "\n",
      "Inverse variance weights:\n",
      "  Uterus-specific=0, Sensory-specific=0: 0.000334\n",
      "  Uterus-specific=0, Sensory-specific=1: 0.009442\n",
      "  Uterus-specific=1, Sensory-specific=0: 0.000398\n",
      "  Uterus-specific=1, Sensory-specific=1: 0.001563\n"
     ]
    }
   ],
   "source": [
    "def one_sided_test_gls(model_result, coef_name):\n",
    "    \"\"\"\n",
    "    Perform one-sided t-test for a coefficient in GLS model\n",
    "    \"\"\"\n",
    "    coef_val = model_result.params[coef_name]\n",
    "    t_val = model_result.tvalues[coef_name]\n",
    "    df_res = model_result.df_resid\n",
    "    \n",
    "    if coef_val < 0:\n",
    "        p_val = stats.t.cdf(t_val, df=df_res)\n",
    "    else:\n",
    "        p_val = 1 - stats.t.cdf(t_val, df=df_res)\n",
    "    \n",
    "    return {'p_value': p_val, 'beta': coef_val, 't_value': t_val}\n",
    "\n",
    "print(\"\\n=== GLS ANALYSIS WITH UNEQUAL VARIANCE ===\")\n",
    "\n",
    "# Calculate group variances\n",
    "group_vars = df_pressure.groupby('group')['peak_mean'].var()\n",
    "print(\"\\nGroup variances:\")\n",
    "for group, var_val in group_vars.items():\n",
    "    uterus, sensory = group.split('_')\n",
    "    print(f\"  Uterus-specific={uterus}, Sensory-specific={sensory}: {var_val:.4f}\")\n",
    "\n",
    "# Create weights (inverse variance)\n",
    "weights_map = {}\n",
    "for group_name, var_val in group_vars.items():\n",
    "    weights_map[group_name] = 1.0 / var_val\n",
    "\n",
    "df_pressure['weight_vals'] = df_pressure['group'].apply(lambda x: weights_map[x])\n",
    "weights = df_pressure['weight_vals'].values\n",
    "\n",
    "print(\"\\nInverse variance weights:\")\n",
    "for group, weight in weights_map.items():\n",
    "    uterus, sensory = group.split('_')\n",
    "    print(f\"  Uterus-specific={uterus}, Sensory-specific={sensory}: {weight:.6f}\")"
   ]
  },
  {
   "cell_type": "code",
   "execution_count": 5,
   "metadata": {
    "execution": {
     "iopub.execute_input": "2025-07-31T17:08:05.738963Z",
     "iopub.status.busy": "2025-07-31T17:08:05.738573Z",
     "iopub.status.idle": "2025-07-31T17:08:05.752824Z",
     "shell.execute_reply": "2025-07-31T17:08:05.751863Z"
    }
   },
   "outputs": [
    {
     "name": "stdout",
     "output_type": "stream",
     "text": [
      "\n",
      "Design matrix columns:\n",
      "['const', 'uterus_specific_1', 'sensory_specific_1']\n",
      "\n",
      "=== MODEL RESULTS ===\n",
      "\n",
      "Model summary:\n",
      "  R-squared: 0.3197\n",
      "  AIC: 282.7058\n",
      "  BIC: 286.8077\n",
      "  Log-likelihood: -138.3529\n",
      "  Degrees of freedom (residual): 26.0\n"
     ]
    }
   ],
   "source": [
    "# Fit GLS model\n",
    "X_design = sm.add_constant(pd.get_dummies(df_pressure[['uterus_specific', 'sensory_specific']], drop_first=True))\n",
    "y = df_pressure['peak_mean'].values\n",
    "\n",
    "print(\"\\nDesign matrix columns:\")\n",
    "print(list(X_design.columns))\n",
    "\n",
    "# Fit the GLS model with unequal variance\n",
    "model_unequal = sm.GLS(y, X_design, sigma=np.diag(1.0/weights)).fit()\n",
    "\n",
    "print(\"\\n=== MODEL RESULTS ===\")\n",
    "print(f\"\\nModel summary:\")\n",
    "print(f\"  R-squared: {model_unequal.rsquared:.4f}\")\n",
    "print(f\"  AIC: {model_unequal.aic:.4f}\")\n",
    "print(f\"  BIC: {model_unequal.bic:.4f}\")\n",
    "print(f\"  Log-likelihood: {model_unequal.llf:.4f}\")\n",
    "print(f\"  Degrees of freedom (residual): {model_unequal.df_resid}\")"
   ]
  },
  {
   "cell_type": "markdown",
   "metadata": {},
   "source": [
    "## Statistical Tests for Main Effects"
   ]
  },
  {
   "cell_type": "code",
   "execution_count": 6,
   "metadata": {
    "execution": {
     "iopub.execute_input": "2025-07-31T17:08:05.757140Z",
     "iopub.status.busy": "2025-07-31T17:08:05.756759Z",
     "iopub.status.idle": "2025-07-31T17:08:05.772634Z",
     "shell.execute_reply": "2025-07-31T17:08:05.771866Z"
    }
   },
   "outputs": [
    {
     "name": "stdout",
     "output_type": "stream",
     "text": [
      "\n",
      "=== MAIN EFFECTS ANALYSIS ===\n",
      "\n",
      "--- UTERUS-SPECIFIC EFFECT ---\n",
      "  Coefficient (β): -16.008792\n",
      "  t-value: -1.752212\n",
      "  One-sided p-value: 0.045763\n",
      "  Result: SIGNIFICANT - Uterus-specific factor decreases peak mean\n",
      "\n",
      "--- SENSORY-SPECIFIC EFFECT ---\n",
      "  Coefficient (β): -47.114303\n",
      "  t-value: -3.327803\n",
      "  One-sided p-value: 0.001310\n",
      "  Result: SIGNIFICANT - Sensory-specific factor decreases peak mean\n",
      "\n",
      "=== INTERPRETATION ===\n",
      "\n",
      "The GLS model accounts for unequal variances across experimental groups.\n",
      "One-sided tests evaluate whether each factor has a directional effect on peak mean values.\n",
      "\n",
      "Coefficient interpretation:\n",
      "  - Uterus-specific coefficient: Expected change in peak mean when uterus-specific factor changes from 0 to 1\n",
      "  - Sensory-specific coefficient: Expected change in peak mean when sensory-specific factor changes from 0 to 1\n"
     ]
    }
   ],
   "source": [
    "# Perform one-sided tests for main effects\n",
    "test_uterus = one_sided_test_gls(model_unequal, \"uterus_specific_1\")\n",
    "test_sensory = one_sided_test_gls(model_unequal, \"sensory_specific_1\")\n",
    "\n",
    "print(\"\\n=== MAIN EFFECTS ANALYSIS ===\")\n",
    "print(\"\\n--- UTERUS-SPECIFIC EFFECT ---\")\n",
    "print(f\"  Coefficient (β): {test_uterus['beta']:.6f}\")\n",
    "print(f\"  t-value: {test_uterus['t_value']:.6f}\")\n",
    "print(f\"  One-sided p-value: {test_uterus['p_value']:.6f}\")\n",
    "if test_uterus['p_value'] < 0.05:\n",
    "    significance = \"SIGNIFICANT\"\n",
    "    direction = \"increases\" if test_uterus['beta'] > 0 else \"decreases\"\n",
    "    print(f\"  Result: {significance} - Uterus-specific factor {direction} peak mean\")\n",
    "else:\n",
    "    print(f\"  Result: NOT SIGNIFICANT\")\n",
    "\n",
    "print(\"\\n--- SENSORY-SPECIFIC EFFECT ---\")\n",
    "print(f\"  Coefficient (β): {test_sensory['beta']:.6f}\")\n",
    "print(f\"  t-value: {test_sensory['t_value']:.6f}\")\n",
    "print(f\"  One-sided p-value: {test_sensory['p_value']:.6f}\")\n",
    "if test_sensory['p_value'] < 0.05:\n",
    "    significance = \"SIGNIFICANT\"\n",
    "    direction = \"increases\" if test_sensory['beta'] > 0 else \"decreases\"\n",
    "    print(f\"  Result: {significance} - Sensory-specific factor {direction} peak mean\")\n",
    "else:\n",
    "    print(f\"  Result: NOT SIGNIFICANT\")\n",
    "\n",
    "print(\"\\n=== INTERPRETATION ===\")\n",
    "print(\"\\nThe GLS model accounts for unequal variances across experimental groups.\")\n",
    "print(\"One-sided tests evaluate whether each factor has a directional effect on peak mean values.\")\n",
    "print(\"\\nCoefficient interpretation:\")\n",
    "print(f\"  - Uterus-specific coefficient: Expected change in peak mean when uterus-specific factor changes from 0 to 1\")\n",
    "print(f\"  - Sensory-specific coefficient: Expected change in peak mean when sensory-specific factor changes from 0 to 1\")"
   ]
  },
  {
   "cell_type": "markdown",
   "metadata": {},
   "source": [
    "## Full Model Summary"
   ]
  },
  {
   "cell_type": "code",
   "execution_count": 7,
   "metadata": {
    "execution": {
     "iopub.execute_input": "2025-07-31T17:08:05.777096Z",
     "iopub.status.busy": "2025-07-31T17:08:05.776522Z",
     "iopub.status.idle": "2025-07-31T17:08:05.793378Z",
     "shell.execute_reply": "2025-07-31T17:08:05.792641Z"
    }
   },
   "outputs": [
    {
     "name": "stdout",
     "output_type": "stream",
     "text": [
      "\n",
      "=== COMPLETE MODEL SUMMARY ===\n",
      "                            GLS Regression Results                            \n",
      "==============================================================================\n",
      "Dep. Variable:                      y   R-squared:                       0.320\n",
      "Model:                            GLS   Adj. R-squared:                  0.267\n",
      "Method:                 Least Squares   F-statistic:                     6.108\n",
      "Date:                Thu, 31 Jul 2025   Prob (F-statistic):            0.00669\n",
      "Time:                        10:08:05   Log-Likelihood:                -138.35\n",
      "No. Observations:                  29   AIC:                             282.7\n",
      "Df Residuals:                      26   BIC:                             286.8\n",
      "Df Model:                           2                                         \n",
      "Covariance Type:            nonrobust                                         \n",
      "======================================================================================\n",
      "                         coef    std err          t      P>|t|      [0.025      0.975]\n",
      "--------------------------------------------------------------------------------------\n",
      "const                129.7574     14.111      9.196      0.000     100.752     158.762\n",
      "uterus_specific_1    -16.0088      9.136     -1.752      0.092     -34.789       2.771\n",
      "sensory_specific_1   -47.1143     14.158     -3.328      0.003     -76.216     -18.013\n",
      "==============================================================================\n",
      "Omnibus:                        7.698   Durbin-Watson:                   2.669\n",
      "Prob(Omnibus):                  0.021   Jarque-Bera (JB):                2.598\n",
      "Skew:                           0.356   Prob(JB):                        0.273\n",
      "Kurtosis:                       1.718   Cond. No.                         7.70\n",
      "==============================================================================\n",
      "\n",
      "Notes:\n",
      "[1] Standard Errors assume that the covariance matrix of the errors is correctly specified.\n"
     ]
    }
   ],
   "source": [
    "print(\"\\n=== COMPLETE MODEL SUMMARY ===\")\n",
    "print(model_unequal.summary())"
   ]
  }
 ],
 "metadata": {
  "kernelspec": {
   "display_name": "Python 3 (ipykernel)",
   "language": "python",
   "name": "python3"
  },
  "language_info": {
   "codemirror_mode": {
    "name": "ipython",
    "version": 3
   },
   "file_extension": ".py",
   "mimetype": "text/x-python",
   "name": "python",
   "nbconvert_exporter": "python",
   "pygments_lexer": "ipython3",
   "version": "3.9.20"
  }
 },
 "nbformat": 4,
 "nbformat_minor": 4
}
